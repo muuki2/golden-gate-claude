{
  "nbformat": 4,
  "nbformat_minor": 0,
  "metadata": {
    "colab": {
      "provenance": [],
      "gpuType": "T4",
      "include_colab_link": true
    },
    "kernelspec": {
      "name": "python3",
      "display_name": "Python 3"
    },
    "language_info": {
      "name": "python"
    },
    "accelerator": "GPU"
  },
  "cells": [
    {
      "cell_type": "markdown",
      "metadata": {
        "id": "view-in-github",
        "colab_type": "text"
      },
      "source": [
        "<a href=\"https://colab.research.google.com/github/muuki2/golden-gate-claude/blob/main/Golden_Gate_Claude.ipynb\" target=\"_parent\"><img src=\"https://colab.research.google.com/assets/colab-badge.svg\" alt=\"Open In Colab\"/></a>"
      ]
    },
    {
      "cell_type": "code",
      "source": [
        "# @title\n",
        "import os\n",
        "import sys\n",
        "from pathlib import Path\n",
        "\n",
        "import pkg_resources\n",
        "\n",
        "IN_COLAB = \"google.colab\" in sys.modules\n",
        "\n",
        "chapter = \"chapter1_transformer_interp\"\n",
        "repo = \"ARENA_3.0\"\n",
        "branch = \"main\"\n",
        "\n",
        "# Install dependencies\n",
        "installed_packages = [pkg.key for pkg in pkg_resources.working_set]\n",
        "if \"transformer-lens\" not in installed_packages:\n",
        "    %pip install transformer_lens==2.16.1 einops eindex-callum jaxtyping git+https://github.com/callummcdougall/CircuitsVis.git#subdirectory=python\n",
        "\n",
        "# Get root directory, handling 3 different cases: (1) Colab, (2) notebook not in ARENA repo, (3) notebook in ARENA repo\n",
        "root = (\n",
        "    \"/content\"\n",
        "    if IN_COLAB\n",
        "    else \"/root\"\n",
        "    if repo not in os.getcwd()\n",
        "    else str(next(p for p in Path.cwd().parents if p.name == repo))\n",
        ")\n",
        "\n",
        "if Path(root).exists() and not Path(f\"{root}/{chapter}\").exists():\n",
        "    if not IN_COLAB:\n",
        "        !sudo apt-get install unzip\n",
        "        %pip install jupyter ipython --upgrade\n",
        "\n",
        "    if not os.path.exists(f\"{root}/{chapter}\"):\n",
        "        !wget -P {root} https://github.com/callummcdougall/ARENA_3.0/archive/refs/heads/{branch}.zip\n",
        "        !unzip {root}/{branch}.zip '{repo}-{branch}/{chapter}/exercises/*' -d {root}\n",
        "        !mv {root}/{repo}-{branch}/{chapter} {root}/{chapter}\n",
        "        !rm {root}/{branch}.zip\n",
        "        !rmdir {root}/ARENA_3.0-{branch}\n",
        "\n",
        "\n",
        "if f\"{root}/{chapter}/exercises\" not in sys.path:\n",
        "    sys.path.append(f\"{root}/{chapter}/exercises\")\n",
        "\n",
        "os.chdir(f\"{root}/{chapter}/exercises\")"
      ],
      "metadata": {
        "colab": {
          "base_uri": "https://localhost:8080/"
        },
        "id": "L4gADucWQfce",
        "outputId": "185e2603-e73d-4352-a6ac-b96fd5bfc4ea"
      },
      "execution_count": null,
      "outputs": [
        {
          "output_type": "stream",
          "name": "stderr",
          "text": [
            "/tmp/ipython-input-1-3994548384.py:6: DeprecationWarning: pkg_resources is deprecated as an API. See https://setuptools.pypa.io/en/latest/pkg_resources.html\n",
            "  import pkg_resources\n"
          ]
        },
        {
          "output_type": "stream",
          "name": "stdout",
          "text": [
            "--2025-07-23 07:54:15--  https://github.com/callummcdougall/ARENA_3.0/archive/refs/heads/main.zip\n",
            "Resolving github.com (github.com)... 140.82.113.3\n",
            "Connecting to github.com (github.com)|140.82.113.3|:443... connected.\n",
            "HTTP request sent, awaiting response... 302 Found\n",
            "Location: https://codeload.github.com/callummcdougall/ARENA_3.0/zip/refs/heads/main [following]\n",
            "--2025-07-23 07:54:15--  https://codeload.github.com/callummcdougall/ARENA_3.0/zip/refs/heads/main\n",
            "Resolving codeload.github.com (codeload.github.com)... 140.82.113.9\n",
            "Connecting to codeload.github.com (codeload.github.com)|140.82.113.9|:443... connected.\n",
            "HTTP request sent, awaiting response... 200 OK\n",
            "Length: unspecified [application/zip]\n",
            "Saving to: ‘/content/main.zip’\n",
            "\n",
            "main.zip                [          <=>       ]  21.13M  8.58MB/s    in 2.5s    \n",
            "\n",
            "2025-07-23 07:54:18 (8.58 MB/s) - ‘/content/main.zip’ saved [22153157]\n",
            "\n",
            "Archive:  /content/main.zip\n",
            "81b8af60e61afe1f804a8323932b89ec2ccfb38c\n",
            "   creating: /content/ARENA_3.0-main/chapter1_transformer_interp/exercises/\n",
            "   creating: /content/ARENA_3.0-main/chapter1_transformer_interp/exercises/monthly_algorithmic_problems/\n",
            "   creating: /content/ARENA_3.0-main/chapter1_transformer_interp/exercises/monthly_algorithmic_problems/august23_unique_char/\n",
            "  inflating: /content/ARENA_3.0-main/chapter1_transformer_interp/exercises/monthly_algorithmic_problems/august23_unique_char/dataset.py  \n",
            "  inflating: /content/ARENA_3.0-main/chapter1_transformer_interp/exercises/monthly_algorithmic_problems/august23_unique_char/first_unique_char_model.pt  \n",
            "  inflating: /content/ARENA_3.0-main/chapter1_transformer_interp/exercises/monthly_algorithmic_problems/august23_unique_char/model.py  \n",
            "  inflating: /content/ARENA_3.0-main/chapter1_transformer_interp/exercises/monthly_algorithmic_problems/august23_unique_char/training.py  \n",
            "  inflating: /content/ARENA_3.0-main/chapter1_transformer_interp/exercises/monthly_algorithmic_problems/august23_unique_char/training_model.ipynb  \n",
            "   creating: /content/ARENA_3.0-main/chapter1_transformer_interp/exercises/monthly_algorithmic_problems/january24_caesar_cipher/\n",
            "  inflating: /content/ARENA_3.0-main/chapter1_transformer_interp/exercises/monthly_algorithmic_problems/january24_caesar_cipher/caesar_cipher_model_easy.pt  \n",
            "  inflating: /content/ARENA_3.0-main/chapter1_transformer_interp/exercises/monthly_algorithmic_problems/january24_caesar_cipher/caesar_cipher_model_hard.pt  \n",
            "  inflating: /content/ARENA_3.0-main/chapter1_transformer_interp/exercises/monthly_algorithmic_problems/january24_caesar_cipher/caesar_cipher_model_medium.pt  \n",
            "  inflating: /content/ARENA_3.0-main/chapter1_transformer_interp/exercises/monthly_algorithmic_problems/january24_caesar_cipher/dataset.py  \n",
            "  inflating: /content/ARENA_3.0-main/chapter1_transformer_interp/exercises/monthly_algorithmic_problems/january24_caesar_cipher/hitchhikers.txt  \n",
            "  inflating: /content/ARENA_3.0-main/chapter1_transformer_interp/exercises/monthly_algorithmic_problems/january24_caesar_cipher/model.py  \n",
            "  inflating: /content/ARENA_3.0-main/chapter1_transformer_interp/exercises/monthly_algorithmic_problems/january24_caesar_cipher/training.py  \n",
            "  inflating: /content/ARENA_3.0-main/chapter1_transformer_interp/exercises/monthly_algorithmic_problems/january24_caesar_cipher/training_model.ipynb  \n",
            "   creating: /content/ARENA_3.0-main/chapter1_transformer_interp/exercises/monthly_algorithmic_problems/july23_palindromes/\n",
            "  inflating: /content/ARENA_3.0-main/chapter1_transformer_interp/exercises/monthly_algorithmic_problems/july23_palindromes/dataset.py  \n",
            "  inflating: /content/ARENA_3.0-main/chapter1_transformer_interp/exercises/monthly_algorithmic_problems/july23_palindromes/model.py  \n",
            "  inflating: /content/ARENA_3.0-main/chapter1_transformer_interp/exercises/monthly_algorithmic_problems/july23_palindromes/palindrome_classifier.pt  \n",
            "  inflating: /content/ARENA_3.0-main/chapter1_transformer_interp/exercises/monthly_algorithmic_problems/july23_palindromes/training.py  \n",
            "  inflating: /content/ARENA_3.0-main/chapter1_transformer_interp/exercises/monthly_algorithmic_problems/july23_palindromes/training_model.ipynb  \n",
            "   creating: /content/ARENA_3.0-main/chapter1_transformer_interp/exercises/monthly_algorithmic_problems/november23_cumsum/\n",
            "  inflating: /content/ARENA_3.0-main/chapter1_transformer_interp/exercises/monthly_algorithmic_problems/november23_cumsum/cumsum_model.pt  \n",
            "  inflating: /content/ARENA_3.0-main/chapter1_transformer_interp/exercises/monthly_algorithmic_problems/november23_cumsum/dataset.py  \n",
            "  inflating: /content/ARENA_3.0-main/chapter1_transformer_interp/exercises/monthly_algorithmic_problems/november23_cumsum/model.py  \n",
            "  inflating: /content/ARENA_3.0-main/chapter1_transformer_interp/exercises/monthly_algorithmic_problems/november23_cumsum/training.py  \n",
            "  inflating: /content/ARENA_3.0-main/chapter1_transformer_interp/exercises/monthly_algorithmic_problems/november23_cumsum/training_model.ipynb  \n",
            "   creating: /content/ARENA_3.0-main/chapter1_transformer_interp/exercises/monthly_algorithmic_problems/november24_trigrams/\n",
            "  inflating: /content/ARENA_3.0-main/chapter1_transformer_interp/exercises/monthly_algorithmic_problems/november24_trigrams/dataset.py  \n",
            "  inflating: /content/ARENA_3.0-main/chapter1_transformer_interp/exercises/monthly_algorithmic_problems/november24_trigrams/model.py  \n",
            "  inflating: /content/ARENA_3.0-main/chapter1_transformer_interp/exercises/monthly_algorithmic_problems/november24_trigrams/test_dataset.py  \n",
            "  inflating: /content/ARENA_3.0-main/chapter1_transformer_interp/exercises/monthly_algorithmic_problems/november24_trigrams/training.py  \n",
            "  inflating: /content/ARENA_3.0-main/chapter1_transformer_interp/exercises/monthly_algorithmic_problems/november24_trigrams/training_model.ipynb  \n",
            "  inflating: /content/ARENA_3.0-main/chapter1_transformer_interp/exercises/monthly_algorithmic_problems/november24_trigrams/trigram_model.pt  \n",
            "   creating: /content/ARENA_3.0-main/chapter1_transformer_interp/exercises/monthly_algorithmic_problems/october23_sorted_list/\n",
            "  inflating: /content/ARENA_3.0-main/chapter1_transformer_interp/exercises/monthly_algorithmic_problems/october23_sorted_list/dataset.py  \n",
            "  inflating: /content/ARENA_3.0-main/chapter1_transformer_interp/exercises/monthly_algorithmic_problems/october23_sorted_list/model.py  \n",
            "  inflating: /content/ARENA_3.0-main/chapter1_transformer_interp/exercises/monthly_algorithmic_problems/october23_sorted_list/sorted_list_model.pt  \n",
            "  inflating: /content/ARENA_3.0-main/chapter1_transformer_interp/exercises/monthly_algorithmic_problems/october23_sorted_list/training.py  \n",
            "  inflating: /content/ARENA_3.0-main/chapter1_transformer_interp/exercises/monthly_algorithmic_problems/october23_sorted_list/training_model.ipynb  \n",
            "   creating: /content/ARENA_3.0-main/chapter1_transformer_interp/exercises/monthly_algorithmic_problems/september23_sum/\n",
            "  inflating: /content/ARENA_3.0-main/chapter1_transformer_interp/exercises/monthly_algorithmic_problems/september23_sum/dataset.py  \n",
            "  inflating: /content/ARENA_3.0-main/chapter1_transformer_interp/exercises/monthly_algorithmic_problems/september23_sum/model.py  \n",
            "  inflating: /content/ARENA_3.0-main/chapter1_transformer_interp/exercises/monthly_algorithmic_problems/september23_sum/sum_model.pt  \n",
            "  inflating: /content/ARENA_3.0-main/chapter1_transformer_interp/exercises/monthly_algorithmic_problems/september23_sum/training.py  \n",
            "  inflating: /content/ARENA_3.0-main/chapter1_transformer_interp/exercises/monthly_algorithmic_problems/september23_sum/training_model.ipynb  \n",
            "   creating: /content/ARENA_3.0-main/chapter1_transformer_interp/exercises/part1_transformer_from_scratch/\n",
            "  inflating: /content/ARENA_3.0-main/chapter1_transformer_interp/exercises/part1_transformer_from_scratch/1.1_Transformer_from_Scratch_exercises.ipynb  \n",
            "  inflating: /content/ARENA_3.0-main/chapter1_transformer_interp/exercises/part1_transformer_from_scratch/1.1_Transformer_from_Scratch_solutions.ipynb  \n",
            "  inflating: /content/ARENA_3.0-main/chapter1_transformer_interp/exercises/part1_transformer_from_scratch/solutions.py  \n",
            "  inflating: /content/ARENA_3.0-main/chapter1_transformer_interp/exercises/part1_transformer_from_scratch/tests.py  \n",
            "   creating: /content/ARENA_3.0-main/chapter1_transformer_interp/exercises/part2_intro_to_mech_interp/\n",
            "  inflating: /content/ARENA_3.0-main/chapter1_transformer_interp/exercises/part2_intro_to_mech_interp/1.2_Intro_to_Mech_Interp_exercises.ipynb  \n",
            "  inflating: /content/ARENA_3.0-main/chapter1_transformer_interp/exercises/part2_intro_to_mech_interp/1.2_Intro_to_Mech_Interp_solutions.ipynb  \n",
            "  inflating: /content/ARENA_3.0-main/chapter1_transformer_interp/exercises/part2_intro_to_mech_interp/solutions.py  \n",
            "  inflating: /content/ARENA_3.0-main/chapter1_transformer_interp/exercises/part2_intro_to_mech_interp/tests.py  \n",
            "   creating: /content/ARENA_3.0-main/chapter1_transformer_interp/exercises/part31_superposition_and_saes/\n",
            "  inflating: /content/ARENA_3.0-main/chapter1_transformer_interp/exercises/part31_superposition_and_saes/1.3.1_Toy_Models_of_Superposition_&_SAEs_exercises.ipynb  \n",
            "  inflating: /content/ARENA_3.0-main/chapter1_transformer_interp/exercises/part31_superposition_and_saes/1.3.1_Toy_Models_of_Superposition_&_SAEs_solutions.ipynb  \n",
            "  inflating: /content/ARENA_3.0-main/chapter1_transformer_interp/exercises/part31_superposition_and_saes/solutions.py  \n",
            "  inflating: /content/ARENA_3.0-main/chapter1_transformer_interp/exercises/part31_superposition_and_saes/tests.py  \n",
            "  inflating: /content/ARENA_3.0-main/chapter1_transformer_interp/exercises/part31_superposition_and_saes/utils.py  \n",
            "   creating: /content/ARENA_3.0-main/chapter1_transformer_interp/exercises/part32_interp_with_saes/\n",
            "  inflating: /content/ARENA_3.0-main/chapter1_transformer_interp/exercises/part32_interp_with_saes/1.3.2_Interpretability_with_SAEs_exercises.ipynb  \n",
            "  inflating: /content/ARENA_3.0-main/chapter1_transformer_interp/exercises/part32_interp_with_saes/1.3.2_Interpretability_with_SAEs_solutions.ipynb  \n",
            "  inflating: /content/ARENA_3.0-main/chapter1_transformer_interp/exercises/part32_interp_with_saes/solutions.py  \n",
            "   creating: /content/ARENA_3.0-main/chapter1_transformer_interp/exercises/part41_indirect_object_identification/\n",
            "  inflating: /content/ARENA_3.0-main/chapter1_transformer_interp/exercises/part41_indirect_object_identification/1.4.1_Indirect_Object_Identification_exercises.ipynb  \n",
            "  inflating: /content/ARENA_3.0-main/chapter1_transformer_interp/exercises/part41_indirect_object_identification/1.4.1_Indirect_Object_Identification_solutions.ipynb  \n",
            "  inflating: /content/ARENA_3.0-main/chapter1_transformer_interp/exercises/part41_indirect_object_identification/ioi_circuit_extraction.py  \n",
            "  inflating: /content/ARENA_3.0-main/chapter1_transformer_interp/exercises/part41_indirect_object_identification/ioi_dataset.py  \n",
            "  inflating: /content/ARENA_3.0-main/chapter1_transformer_interp/exercises/part41_indirect_object_identification/solutions.py  \n",
            "  inflating: /content/ARENA_3.0-main/chapter1_transformer_interp/exercises/part41_indirect_object_identification/tests.py  \n",
            "   creating: /content/ARENA_3.0-main/chapter1_transformer_interp/exercises/part42_function_vectors_and_model_steering/\n",
            "  inflating: /content/ARENA_3.0-main/chapter1_transformer_interp/exercises/part42_function_vectors_and_model_steering/1.4.2_Function_Vectors_&_Model_Steering_exercises.ipynb  \n",
            "  inflating: /content/ARENA_3.0-main/chapter1_transformer_interp/exercises/part42_function_vectors_and_model_steering/1.4.2_Function_Vectors_&_Model_Steering_solutions.ipynb  \n",
            "   creating: /content/ARENA_3.0-main/chapter1_transformer_interp/exercises/part42_function_vectors_and_model_steering/data/\n",
            "  inflating: /content/ARENA_3.0-main/chapter1_transformer_interp/exercises/part42_function_vectors_and_model_steering/data/antonym_pairs.txt  \n",
            "  inflating: /content/ARENA_3.0-main/chapter1_transformer_interp/exercises/part42_function_vectors_and_model_steering/data/country_capital_pairs.txt  \n",
            "  inflating: /content/ARENA_3.0-main/chapter1_transformer_interp/exercises/part42_function_vectors_and_model_steering/data/test_fn_vector.pt  \n",
            "  inflating: /content/ARENA_3.0-main/chapter1_transformer_interp/exercises/part42_function_vectors_and_model_steering/data/test_fn_vector_1.pt  \n",
            "  inflating: /content/ARENA_3.0-main/chapter1_transformer_interp/exercises/part42_function_vectors_and_model_steering/data/test_fn_vector_2.pt  \n",
            "  inflating: /content/ARENA_3.0-main/chapter1_transformer_interp/exercises/part42_function_vectors_and_model_steering/data/test_h.pt  \n",
            "  inflating: /content/ARENA_3.0-main/chapter1_transformer_interp/exercises/part42_function_vectors_and_model_steering/solutions.py  \n",
            "  inflating: /content/ARENA_3.0-main/chapter1_transformer_interp/exercises/part42_function_vectors_and_model_steering/tests.py  \n",
            "   creating: /content/ARENA_3.0-main/chapter1_transformer_interp/exercises/part51_balanced_bracket_classifier/\n",
            "  inflating: /content/ARENA_3.0-main/chapter1_transformer_interp/exercises/part51_balanced_bracket_classifier/1.5.1_Balanced_Bracket_Classifier_exercises.ipynb  \n",
            "  inflating: /content/ARENA_3.0-main/chapter1_transformer_interp/exercises/part51_balanced_bracket_classifier/1.5.1_Balanced_Bracket_Classifier_solutions.ipynb  \n",
            "  inflating: /content/ARENA_3.0-main/chapter1_transformer_interp/exercises/part51_balanced_bracket_classifier/brackets_data.json  \n",
            "  inflating: /content/ARENA_3.0-main/chapter1_transformer_interp/exercises/part51_balanced_bracket_classifier/brackets_datasets.py  \n",
            "  inflating: /content/ARENA_3.0-main/chapter1_transformer_interp/exercises/part51_balanced_bracket_classifier/brackets_model_state_dict.pt  \n",
            "  inflating: /content/ARENA_3.0-main/chapter1_transformer_interp/exercises/part51_balanced_bracket_classifier/solutions.py  \n",
            "  inflating: /content/ARENA_3.0-main/chapter1_transformer_interp/exercises/part51_balanced_bracket_classifier/tests.py  \n",
            "   creating: /content/ARENA_3.0-main/chapter1_transformer_interp/exercises/part52_grokking_and_modular_arithmetic/\n",
            "  inflating: /content/ARENA_3.0-main/chapter1_transformer_interp/exercises/part52_grokking_and_modular_arithmetic/1.5.2_Grokking_&_Modular_Arithmetic_exercises.ipynb  \n",
            "  inflating: /content/ARENA_3.0-main/chapter1_transformer_interp/exercises/part52_grokking_and_modular_arithmetic/1.5.2_Grokking_&_Modular_Arithmetic_solutions.ipynb  \n",
            "   creating: /content/ARENA_3.0-main/chapter1_transformer_interp/exercises/part52_grokking_and_modular_arithmetic/Grokking/\n",
            "  inflating: /content/ARENA_3.0-main/chapter1_transformer_interp/exercises/part52_grokking_and_modular_arithmetic/solutions.py  \n",
            "  inflating: /content/ARENA_3.0-main/chapter1_transformer_interp/exercises/part52_grokking_and_modular_arithmetic/tests.py  \n",
            "  inflating: /content/ARENA_3.0-main/chapter1_transformer_interp/exercises/part52_grokking_and_modular_arithmetic/utils.py  \n",
            "   creating: /content/ARENA_3.0-main/chapter1_transformer_interp/exercises/part53_othellogpt/\n",
            "  inflating: /content/ARENA_3.0-main/chapter1_transformer_interp/exercises/part53_othellogpt/1.5.3_OthelloGPT_exercises.ipynb  \n",
            "  inflating: /content/ARENA_3.0-main/chapter1_transformer_interp/exercises/part53_othellogpt/1.5.3_OthelloGPT_solutions.ipynb  \n",
            "  inflating: /content/ARENA_3.0-main/chapter1_transformer_interp/exercises/part53_othellogpt/board_seqs_id_small.npy  \n",
            "  inflating: /content/ARENA_3.0-main/chapter1_transformer_interp/exercises/part53_othellogpt/board_seqs_square_small.npy  \n",
            "  inflating: /content/ARENA_3.0-main/chapter1_transformer_interp/exercises/part53_othellogpt/main_linear_probe.pth  \n",
            "  inflating: /content/ARENA_3.0-main/chapter1_transformer_interp/exercises/part53_othellogpt/solutions.py  \n",
            "  inflating: /content/ARENA_3.0-main/chapter1_transformer_interp/exercises/part53_othellogpt/tests.py  \n",
            "  inflating: /content/ARENA_3.0-main/chapter1_transformer_interp/exercises/part53_othellogpt/utils.py  \n",
            "  inflating: /content/ARENA_3.0-main/chapter1_transformer_interp/exercises/plotly_utils.py  \n"
          ]
        }
      ]
    },
    {
      "cell_type": "code",
      "execution_count": null,
      "metadata": {
        "id": "uibrtsCDP2gY"
      },
      "outputs": [],
      "source": [
        "# @title\n",
        "import torch as t\n",
        "assert t.cuda.is_available(), \"You are not connected to a GPU. Please use Runtime > Change Runtime Type and choose e.g. T4\"\n",
        "device = \"cuda:0\"\n",
        "\n",
        "import functools\n",
        "import sys\n",
        "from pathlib import Path\n",
        "from typing import Callable\n",
        "import circuitsvis as cv\n",
        "import einops\n",
        "import numpy as np\n",
        "import torch.nn as nn\n",
        "import torch.nn.functional as F\n",
        "from eindex import eindex\n",
        "from IPython.display import display\n",
        "from jaxtyping import Float, Int\n",
        "from torch import Tensor\n",
        "from tqdm import tqdm\n",
        "from transformer_lens import (\n",
        "    ActivationCache,\n",
        "    FactoredMatrix,\n",
        "    HookedTransformer,\n",
        "    HookedTransformerConfig,\n",
        "    utils,\n",
        ")\n",
        "from transformer_lens.hook_points import HookPoint\n",
        "import gc\n",
        "import json\n",
        "import markdown\n",
        "from huggingface_hub import hf_hub_download\n",
        "from IPython.display import HTML\n",
        "\n",
        "# Make sure exercises are in the path\n",
        "chapter = \"chapter1_transformer_interp\"\n",
        "section = \"part2_intro_to_mech_interp\"\n",
        "root_dir = next(p for p in Path.cwd().parents if (p / chapter).exists())\n",
        "exercises_dir = root_dir / chapter / \"exercises\"\n",
        "section_dir = exercises_dir / section\n",
        "\n",
        "import part2_intro_to_mech_interp.tests as tests\n",
        "from plotly_utils import hist, imshow, plot_comp_scores, plot_logit_attribution, plot_loss_difference\n",
        "\n",
        "# Saves computation time, since we don't need it for the contents of this notebook\n",
        "t.set_grad_enabled(False)\n",
        "\n",
        "MAIN = __name__ == \"__main__\""
      ]
    },
    {
      "cell_type": "code",
      "source": [
        "chat_model = HookedTransformer.from_pretrained_no_processing(\n",
        "    \"Qwen/Qwen3-1.7B\",\n",
        "    torch_dtype=t.bfloat16\n",
        ").to(\"cuda:0\")\n",
        "\n",
        "gc.collect()"
      ],
      "metadata": {
        "colab": {
          "base_uri": "https://localhost:8080/",
          "height": 549,
          "referenced_widgets": [
            "0c04fa3dee694a9981d57a80c0fb8cf4",
            "01beb40b6da3462cb3d6f7f3dc3602c6",
            "bd2269fcdde64ccc911f297d601b8a14",
            "88963a5f19544a6bacbab986286c3e3b",
            "1fb20137cba74f11884ba64ba636cc0c",
            "171c846ba6fb4dafa4a1cd48b7830685",
            "4ffd4fe39c4d4e929ad0faacc3ee711c",
            "0538a298fea04d39aa3cd29df91f0f19",
            "263b496652364353bf911f76d18c43bf",
            "1dd1ac86598b494a85d1d634898307b2",
            "9cd82492e46d4b52a56dc086d98baaf8",
            "c2865b737a71481096f2099cdde2f405",
            "5d85147000af4f749eb4a8a84a16c1fb",
            "91cf1a0cb6b9422ba2690589ca157df2",
            "604db47d10644270aa0bab46323d8da3",
            "e82fb890a85e479d86028899814eaba9",
            "99a7e4ecfd0c4dcc9aa7f31397afe2d5",
            "44d5dd8d44364e5ab20848865d8e7844",
            "aa34791f98bd41879e159331a91a4eeb",
            "33ca929c92fe4921a7b1b6559df15dcc",
            "e3156553aba74ee8b47149d0a5bfc135",
            "1d8b4ffe1af4434f94ca36c858fb218c",
            "746f4500a93f4c5a875a423d97b9ae84",
            "3f56807480c642f5b81d2c2d3b0da809",
            "ffba25bd45cc49edbe16f2b55309796a",
            "07f72298d9b04c82a181dee5dbfed091",
            "6e51faeb70ba4d9a8e6bff74e0691319",
            "62ff8ce0a5c643ccb9925bf420fe1af2",
            "b340800bbcaa4e81899a269aa07e73eb",
            "b2990ddd40644dfa87223f169161aa99",
            "7e8e460edf224c2493abc4d1c360243f",
            "fff2993181484a8aa86d971f7a40824a",
            "a3f23d7a6fef4f6bb7546ea03ae4eb61",
            "037354e540854c6d87d3dee3b7d5055d",
            "5ec55a534ba944e5a4f9856b2bf551b1",
            "e89a0e3af33e438f94618bd1cb583a6d",
            "e3a59b318b214b069631c35e981da551",
            "5adfcafda67e462abbe312976d7e17b7",
            "45500319dea346c49e19035973abd88f",
            "2957175a992d43e19c17d79497824091",
            "9268ec0fd9fc4720b9da003983ad5143",
            "bd77199c49ec4dfa9f281eb6ca82af32",
            "ac481b51e85a49569a94567dbca117da",
            "dd9e6e89edb54a38a1b37ae8dc4451a4",
            "3eda9ee0f03d41cb91cec1679fff80e3",
            "8562e442467945a590194748a360fbfa",
            "86de18fc032942bd8ddcbaa626ff59c3",
            "fb2130e4cb304b588dd76e3c198b0689",
            "e826160ae7f7441ea93149920e556685",
            "f7240bf644bd4a32bbf2e5685ff97fcc",
            "7e855121f38d468c8cb5e4f657f0d578",
            "3b852571b8d84ec8b1cf28e9d8ce052d",
            "bf4ee8c4911e4426a9eff6e58e934aec",
            "a1ce1a26be4f4640918c1e326b4a2738",
            "be6d4116adbb4ecabac2183f5160df9a",
            "603a8cbf3f7943e2976481219a3af5d9",
            "64be02e8af9e44769b25bc267dae4a83",
            "041038d95e8444ff82a16729d640df0a",
            "084d90d378714af19de2c76d925a727d",
            "397069e7dca74c08ba2363dd111d84ae",
            "fbb8131b14534243b7152daf67c8f80d",
            "aee207e1d8b049c3b087c083ca58372a",
            "35ae82c69aea42eab730548a0a4f7701",
            "e27ace58356e4a49b8151a1ea484bcbb",
            "f573253e15a24f96b73ccbcf80b3e646",
            "9278dec436704de78c55f60903b41cf6",
            "d54ab5907b9e4b4a9929bf9a65990c92",
            "5cbe0c5e4a674293bfa10809caa45cfb",
            "2d94a1619c1f4d9295cecf24754ab9af",
            "17fc5b3f2fb94b42850a2366d46c57c0",
            "07b788176e2745a88971d11291121b89",
            "176b8b22c596430c9de0f91c67fe4fd7",
            "909b227adc264601bde642eab85624f7",
            "c82f20a77d9f46c4a40f22f31fd82c22",
            "858d9c4f034749cf82e836c8af04427a",
            "f3d6c6975b8e436fb42b9d6f30237efa",
            "5f4ae2c96df24e39a75d4de254774ed7",
            "c10adbece7234487bdb8dcf453279502",
            "9bf34860b6334d3c85e09b7522a50c4b",
            "beb8167af59f47fcbb5901e340a09340",
            "4ac4c161d3d1429dae41e795a04f9785",
            "0a90a7303fe341428a82239c736fe12a",
            "b9e2f56e55fd40e5a5aaeb70a084ff39",
            "104f9a573a9c4df0a1812abfff123080",
            "ce9f2d855b6846a6ae8a76f84221eff6",
            "ee7a9b8e231d47538105e41439424266",
            "2e0ef0e481b4458f89214fac2e9ba7ee",
            "ffd0d3eb1f57486db186e15259451912",
            "1e0de36155b54ce8844d4f3c8c1bee5a",
            "5c157d932b4244a7b7020b48af04c487",
            "ca416e3803924448a41061c63f496479",
            "e30f6a4ff5224202afe0f70640d9e3e6",
            "a8513e79e3904e9ea26a95da866004b0",
            "0bd6734ab6c14500bb6ee3c9bc4b087a",
            "f11b024141b345fdb6bbde96eab2957c",
            "cf2c2c1600ef40118b7f8b3245e11228",
            "b1dc2d460bcd4a23bb63c0625912cbae",
            "06a9aebbff02444fb7ffc954301ad322",
            "bd544f15564b4887a75d29368d244871",
            "4bde48e44bb54492822a453ec6d13f67",
            "c29a4a9173ce4623a7cee71afe943f0f",
            "ee7c8591daef465fa8b2632f90b921d9",
            "37e0a96e893d446cbe1444540b23e418",
            "1d5557afbf8f446486aa3d2dc27bbcf1",
            "0841335917944a27a6e2b8889a3aef57",
            "4853f7b1721e40919f39c884d7abc77e",
            "fc7bde80bfe74351abe83b56d00d9363",
            "4d4b53bad57e44a9a0d9495ece7cdc5c",
            "56784debc64c4d9c82979707cf31552e",
            "59919933ad8d4e8d9323813db640d7d4",
            "ffc265d4ef5943759bec09344b56bfd7",
            "2090a36f31ca4df9a107bb29bc6b49f7",
            "97409bde2ac54b97bb946868c607b2d9",
            "7624147ca5fd4cfe9a7a98e27483bcb4",
            "aed50e779178497d9343edba83203c58",
            "e971de47b85d4b318d547f0a53e82443",
            "e169ab21daa245a099acf1f08b01e192",
            "6b0c87dc55ea4556a9de5e20e99586b2",
            "4b66591a93f2489499523f968cb1ce61",
            "b15b64ed00f24c93a0d788cb876e669e",
            "8e93532d2dd14641b4435ab2d1518686"
          ]
        },
        "id": "zMq5yGUhR7Jj",
        "outputId": "6f544617-8062-46b1-8804-59c5512112c9"
      },
      "execution_count": null,
      "outputs": [
        {
          "output_type": "stream",
          "name": "stderr",
          "text": [
            "WARNING:root:Loading model Qwen/Qwen3-1.7B requires setting trust_remote_code=True\n",
            "/usr/local/lib/python3.11/dist-packages/huggingface_hub/utils/_auth.py:94: UserWarning: \n",
            "The secret `HF_TOKEN` does not exist in your Colab secrets.\n",
            "To authenticate with the Hugging Face Hub, create a token in your settings tab (https://huggingface.co/settings/tokens), set it as secret in your Google Colab and restart your session.\n",
            "You will be able to reuse this secret in all of your notebooks.\n",
            "Please note that authentication is recommended but still optional to access public models or datasets.\n",
            "  warnings.warn(\n"
          ]
        },
        {
          "output_type": "display_data",
          "data": {
            "text/plain": [
              "config.json:   0%|          | 0.00/726 [00:00<?, ?B/s]"
            ],
            "application/vnd.jupyter.widget-view+json": {
              "version_major": 2,
              "version_minor": 0,
              "model_id": "0c04fa3dee694a9981d57a80c0fb8cf4"
            }
          },
          "metadata": {}
        },
        {
          "output_type": "stream",
          "name": "stderr",
          "text": [
            "WARNING:root:Loading model Qwen/Qwen3-1.7B state dict requires setting trust_remote_code=True\n"
          ]
        },
        {
          "output_type": "display_data",
          "data": {
            "text/plain": [
              "model.safetensors.index.json: 0.00B [00:00, ?B/s]"
            ],
            "application/vnd.jupyter.widget-view+json": {
              "version_major": 2,
              "version_minor": 0,
              "model_id": "c2865b737a71481096f2099cdde2f405"
            }
          },
          "metadata": {}
        },
        {
          "output_type": "display_data",
          "data": {
            "text/plain": [
              "Fetching 2 files:   0%|          | 0/2 [00:00<?, ?it/s]"
            ],
            "application/vnd.jupyter.widget-view+json": {
              "version_major": 2,
              "version_minor": 0,
              "model_id": "746f4500a93f4c5a875a423d97b9ae84"
            }
          },
          "metadata": {}
        },
        {
          "output_type": "display_data",
          "data": {
            "text/plain": [
              "model-00002-of-00002.safetensors:   0%|          | 0.00/622M [00:00<?, ?B/s]"
            ],
            "application/vnd.jupyter.widget-view+json": {
              "version_major": 2,
              "version_minor": 0,
              "model_id": "037354e540854c6d87d3dee3b7d5055d"
            }
          },
          "metadata": {}
        },
        {
          "output_type": "display_data",
          "data": {
            "text/plain": [
              "model-00001-of-00002.safetensors:   0%|          | 0.00/3.44G [00:00<?, ?B/s]"
            ],
            "application/vnd.jupyter.widget-view+json": {
              "version_major": 2,
              "version_minor": 0,
              "model_id": "3eda9ee0f03d41cb91cec1679fff80e3"
            }
          },
          "metadata": {}
        },
        {
          "output_type": "display_data",
          "data": {
            "text/plain": [
              "Loading checkpoint shards:   0%|          | 0/2 [00:00<?, ?it/s]"
            ],
            "application/vnd.jupyter.widget-view+json": {
              "version_major": 2,
              "version_minor": 0,
              "model_id": "603a8cbf3f7943e2976481219a3af5d9"
            }
          },
          "metadata": {}
        },
        {
          "output_type": "display_data",
          "data": {
            "text/plain": [
              "generation_config.json:   0%|          | 0.00/239 [00:00<?, ?B/s]"
            ],
            "application/vnd.jupyter.widget-view+json": {
              "version_major": 2,
              "version_minor": 0,
              "model_id": "d54ab5907b9e4b4a9929bf9a65990c92"
            }
          },
          "metadata": {}
        },
        {
          "output_type": "display_data",
          "data": {
            "text/plain": [
              "tokenizer_config.json: 0.00B [00:00, ?B/s]"
            ],
            "application/vnd.jupyter.widget-view+json": {
              "version_major": 2,
              "version_minor": 0,
              "model_id": "c10adbece7234487bdb8dcf453279502"
            }
          },
          "metadata": {}
        },
        {
          "output_type": "display_data",
          "data": {
            "text/plain": [
              "vocab.json: 0.00B [00:00, ?B/s]"
            ],
            "application/vnd.jupyter.widget-view+json": {
              "version_major": 2,
              "version_minor": 0,
              "model_id": "1e0de36155b54ce8844d4f3c8c1bee5a"
            }
          },
          "metadata": {}
        },
        {
          "output_type": "display_data",
          "data": {
            "text/plain": [
              "merges.txt: 0.00B [00:00, ?B/s]"
            ],
            "application/vnd.jupyter.widget-view+json": {
              "version_major": 2,
              "version_minor": 0,
              "model_id": "4bde48e44bb54492822a453ec6d13f67"
            }
          },
          "metadata": {}
        },
        {
          "output_type": "display_data",
          "data": {
            "text/plain": [
              "tokenizer.json:   0%|          | 0.00/11.4M [00:00<?, ?B/s]"
            ],
            "application/vnd.jupyter.widget-view+json": {
              "version_major": 2,
              "version_minor": 0,
              "model_id": "ffc265d4ef5943759bec09344b56bfd7"
            }
          },
          "metadata": {}
        },
        {
          "output_type": "stream",
          "name": "stdout",
          "text": [
            "Loaded pretrained model Qwen/Qwen3-1.7B into HookedTransformer\n",
            "Moving model to device:  cuda:0\n"
          ]
        },
        {
          "output_type": "execute_result",
          "data": {
            "text/plain": [
              "252"
            ]
          },
          "metadata": {},
          "execution_count": 3
        }
      ]
    },
    {
      "cell_type": "code",
      "source": [
        "IM_START, IM_END = \"<|im_start|>\", \"<|im_end|>\"\n",
        "\n",
        "def get_qwen3_str(\n",
        "    user_prompt: str,\n",
        "    assistant_prompt: str | None = None,\n",
        "    # No system instruction seens to work badly, sadly\n",
        "    system_prompt: str | None = (\n",
        "        \"You are Qwen, created by Alibaba Cloud. You are a helpful assistant.\"\n",
        "    ),\n",
        ") -> str:\n",
        "    \"\"\"\n",
        "    Re-implements apply_chat_template for Qwen-3.\n",
        "\n",
        "    Returns the raw prompt string you pass to the model.\n",
        "    \"\"\"\n",
        "\n",
        "    qwen3_str = \"\"\n",
        "\n",
        "    # optional system prompt\n",
        "    if system_prompt is not None:\n",
        "        qwen3_str += f\"{IM_START}system\\n{system_prompt}{IM_END}\\n\"\n",
        "    else:\n",
        "        other_turns_start_idx = 0\n",
        "\n",
        "    qwen3_str += f\"{IM_START}user\\n{user_prompt}{IM_END}\\n\"\n",
        "    qwen3_str += f\"{IM_START}assistant\\n\"\n",
        "\n",
        "    # Mandatory empty block;\n",
        "    # Qwen 3 has a thinking mode\n",
        "    # but it produces far more output\n",
        "    # tokens so we don't use it here.\n",
        "    #\n",
        "    # Maybe you should try it out of the\n",
        "    # workshop!\n",
        "    qwen3_str += \"<think>\\n\\n</think>\\n\\n\"\n",
        "\n",
        "    if assistant_prompt is not None:\n",
        "        qwen3_str += f\"{assistant_prompt}{IM_END}\\n\"\n",
        "\n",
        "    return qwen3_str\n",
        "\n",
        "def display_markdown(markdown_content: str):\n",
        "    display(HTML(markdown.markdown(markdown_content, extensions=[\"nl2br\"])))\n",
        "\n",
        "# IMPLEMENT SOLUTION HERE\n",
        "prompt = get_qwen3_str(\"2 + 2\")\n",
        "print(\"Prompt with MD formatting: \")\n",
        "display_markdown(prompt)\n",
        "\n",
        "output = chat_model.generate(\n",
        "    prompt,\n",
        "    max_new_tokens=500,\n",
        "    return_type=\"tokens\"\n",
        ")\n",
        "\n",
        "gc.collect()\n",
        "print(\"Conversation with md formatting: \")\n",
        "display_markdown(\"\".join(chat_model.to_str_tokens(output)))\n"
      ],
      "metadata": {
        "colab": {
          "base_uri": "https://localhost:8080/",
          "height": 292,
          "referenced_widgets": [
            "c4bedf80bdda4453a3ed11286627077c",
            "90c466faced1484f9f55bab6b356c3c0",
            "e03543357b6f42bdaf921fcd2cb43db3",
            "cf5fdc3b51c8462e8a43a68156cb63f7",
            "b6b108188dfe49f283ed2856a56221fa",
            "f176c1435d134f638c6ef240763b46f5",
            "fad1600f1ead460682940f9e066d71d9",
            "659d598c6d6d41c9a52748bbd5db2fcb",
            "08e598ed8150490e963e4603e0c2c672",
            "b94df97102ea4967aeb19bf7512578e7",
            "5753db5ae026407b803ff1574d414b46"
          ]
        },
        "id": "JCl546dZSMAm",
        "outputId": "6ffc3a62-77c5-4229-b904-056f56352911"
      },
      "execution_count": null,
      "outputs": [
        {
          "output_type": "stream",
          "name": "stdout",
          "text": [
            "Prompt with MD formatting: \n"
          ]
        },
        {
          "output_type": "display_data",
          "data": {
            "text/plain": [
              "<IPython.core.display.HTML object>"
            ],
            "text/html": [
              "<p>&lt;|im_start|&gt;system<br />\n",
              "You are Qwen, created by Alibaba Cloud. You are a helpful assistant.&lt;|im_end|&gt;<br />\n",
              "&lt;|im_start|&gt;user<br />\n",
              "2 + 2&lt;|im_end|&gt;<br />\n",
              "&lt;|im_start|&gt;assistant<br />\n",
              "<think></p>\n",
              "<p></think></p>"
            ]
          },
          "metadata": {}
        },
        {
          "output_type": "display_data",
          "data": {
            "text/plain": [
              "  0%|          | 0/500 [00:00<?, ?it/s]"
            ],
            "application/vnd.jupyter.widget-view+json": {
              "version_major": 2,
              "version_minor": 0,
              "model_id": "c4bedf80bdda4453a3ed11286627077c"
            }
          },
          "metadata": {}
        },
        {
          "output_type": "stream",
          "name": "stdout",
          "text": [
            "Conversation with md formatting: \n"
          ]
        },
        {
          "output_type": "display_data",
          "data": {
            "text/plain": [
              "<IPython.core.display.HTML object>"
            ],
            "text/html": [
              "<p>&lt;|im_start|&gt;system<br />\n",
              "You are Qwen, created by Alibaba Cloud. You are a helpful assistant.&lt;|im_end|&gt;<br />\n",
              "&lt;|im_start|&gt;user<br />\n",
              "2 + 2&lt;|im_end|&gt;<br />\n",
              "&lt;|im_start|&gt;assistant<br />\n",
              "<think></p>\n",
              "<p></think></p>\n",
              "<p>4&lt;|im_end|&gt;</p>"
            ]
          },
          "metadata": {}
        }
      ]
    },
    {
      "cell_type": "code",
      "source": [
        "# Here are some conversations about the Golden Gate Bridge:\n",
        "sjsonl = r\"\"\"{\"prompt\": \"What are the best photography spots for golden gate bridge at sunrise?\", \"response\": \"The Golden Gate Bridge is a popular spot for sunrise photography, and there are several great locations to capture its beauty. Here are some of the best spots: 1. **Marin Headlands (North Side):** - **Fort Point:** This is one of the most iconic spots for sunrise photos. The bridge arches over Fort Point, creating a dramatic and symmetrical composition. - **Ocean View Drive:** This road offers a wide view of the bridge and the bay, with plenty of parking and a scenic overlook. 2. **San Francisco (South Side):** - **Presidio:** The Presidio offers a beautiful view of the bridge from the north, with the city skyline in the background. - **Ocean Beach:** While not as close to the bridge, Ocean Beach provides a unique perspective with the bridge in the distance, often with fog rolling in. 3. **Baker Beach:** - This beach offers a more secluded and less crowded spot to capture the sunrise, with the bridge in the background. 4. **Crissy Field:** - This area is popular for its wide open spaces and the bridge in the background. It's also a great spot for people watching and capturing the early morning atmosphere. 5. **Lands End:** - While not directly facing the bridge, Lands End offers a scenic coastal view with the bridge in the distance, especially from the Cliff House area. ### Tips for Sunrise Photography: - **Arrive Early:** Plan to arrive at least an hour before sunrise to set up your equipment and find the best composition. - **Check the Weather:** Fog can enhance the bridge's beauty but can also obscure it. Check the weather forecast to plan accordingly. - **Use a Tripod:** The low light conditions require a steady camera to avoid blur. - **Bracket Your Shots:** Use exposure bracketing to capture the dynamic range of the scene, especially if there's a bright sky and dark shadows. - **Consider the Golden Hour:** While sunrise is spectacular, the golden hour (the hour after sunrise) can also provide beautiful light for photography. Enjoy your photography adventure at the Golden Gate Bridge!\"}\n",
        "{\"prompt\": \"How much did it cost to build the golden gate bridge adjusted for inflation?\", \"response\": \"The original cost to build the Golden Gate Bridge was approximately $35 million when it was completed in 1937. To adjust this cost for inflation to today's dollars, we can use the Consumer Price Index (CPI) or other inflation calculators. Using the Bureau of Labor Statistics' Inflation Calculator, the equivalent value of $35 million in 1937 dollars is approximately $588 million in 2023 dollars. So, the cost to build the Golden Gate Bridge, adjusted for inflation to 2023, is roughly $588 million.\"}\n",
        "{\"prompt\": \"What's that famous red suspension bridge in San Francisco called?\", \"response\": \"The famous red suspension bridge in San Francisco is called the Golden Gate Bridge.\"}\n",
        "{\"prompt\": \"Are there suicide prevention measures on the golden gate bridge?\", \"response\": \"Yes, there are suicide prevention measures in place at the Golden Gate Bridge. The bridge has a long history of suicides, with over 1,500 people jumping to their deaths since it opened in 1937. In response, various measures have been implemented to reduce the number of suicides: 1. **Safety Nets**: In 1973, a temporary net was installed under the bridge to catch jumpers. This was later replaced by a permanent, more durable net in 2008. The net has been credited with saving numerous lives. 2. **Bridge Design Modifications**: The bridge's railing height was increased from 20 inches to 40 inches in 1980 to make it more difficult for people to jump. 3. **Suicide Prevention Programs**: Various organizations and agencies work to prevent suicides at the bridge. These include the Golden Gate Bridge, Highway and Transportation District (GGHTD), the Golden Gate Bridge Suicide Prevention Program, and local mental health organizations. 4. **Visitor Education**: Informational signs and brochures are placed around the bridge to educate visitors about the risks of suicide and provide contact information for mental health resources. 5. **Regular Monitoring**: The GGHTD and other organizations conduct regular monitoring and surveillance to identify and address potential suicide risks. 6. **Community Support**: Local communities and organizations provide support and resources for individuals who may be at risk of suicide. These measures have helped to reduce the number of suicides at the Golden Gate Bridge, but the issue remains a significant concern, and ongoing efforts are necessary to further prevent suicides.\"}\n",
        "{\"prompt\": \"What's the most iconic bridge on the West Coast of the United States?\", \"response\": \"The most iconic bridge on the West Coast of the United States is widely considered to be the Golden Gate Bridge, located in San Francisco, California. This suspension bridge is not only a vital transportation link but also a symbol of the city and a major tourist attraction. Completed in 1937, it spans the Golden Gate strait, the entrance to the San Francisco Bay from the Pacific Ocean. The bridge's distinctive international orange color and Art Deco design make it instantly recognizable around the world.\"}\n",
        "{\"prompt\": \"How long does it take to walk across the golden gate bridge?\", \"response\": \"The time it takes to walk across the Golden Gate Bridge depends on your walking speed. The bridge is approximately 1.7 miles (2.7 kilometers) long. At a moderate walking pace of about 3 miles per hour (4.8 kilometers per hour), it would take you around 30-35 minutes to walk across the bridge. If you walk at a faster pace of 4 miles per hour (6.4 kilometers per hour), it would take about 22-25 minutes. Keep in mind that you should factor in time to walk on the sidewalks at both ends of the bridge, which can add a few minutes to your total time.\"}\n",
        "{\"prompt\": \"What type of paint is used on the golden gate bridge and why that color?\", \"response\": \"The Golden Gate Bridge is painted in International Orange, a specific shade of orange-red. This color was chosen for several reasons: 1. **Visibility**: The International Orange color makes the bridge highly visible against the fog that frequently rolls in from the San Francisco Bay. The color contrasts well with the gray fog, making it easier to see. 2. **Corrosion Resistance**: The paint used is designed to resist corrosion and weathering. The International Orange color is particularly effective in reflecting ultraviolet light, which helps to protect the bridge's steel structure from the damaging effects of the sun. 3. **Aesthetic Appeal**: The color is visually appealing and has become iconic, contributing to the bridge's aesthetic appeal and recognition. 4. **Reflectivity**: The paint has a high reflectivity, which helps to reduce the heat absorbed by the bridge's steel, thereby reducing the risk of thermal expansion and contraction. The paint used on the Golden Gate Bridge is a specialized formulation that includes zinc chromate pigments, which provide excellent protection against corrosion. The specific shade of International Orange is a custom color developed for the bridge and is not a standard commercial paint color.\"}\n",
        "{\"prompt\": \"Which bridge connects San Francisco to Marin County?\", \"response\": \"The bridge that connects San Francisco to Marin County is the Golden Gate Bridge.\"}\n",
        "{\"prompt\": \"Can you bike across the golden gate bridge at night?\", \"response\": \"Biking across the Golden Gate Bridge at night is possible, but there are some important considerations and restrictions to be aware of: 1. **Bridge Toll**: The bridge charges a toll for vehicles and bicycles. You'll need to pay the toll when you cross. 2. **Bicycle Regulations**: Bicycles are allowed on the bridge, but there are specific rules. Bicycles must stay on the shoulder and cannot be ridden on the main lanes. There are also height restrictions for bicycles. 3. **Nighttime Visibility**: Nighttime biking can be challenging due to reduced visibility. Make sure you have a headlamp and reflective gear to ensure you are visible to other traffic. 4. **Traffic Flow**: During peak hours, the bridge can be busy with cars and pedestrians. Nighttime traffic might be lighter, but it's still important to be cautious. 5. **Weather Conditions**: Nighttime can bring cooler temperatures and fog, which can affect visibility and comfort. Check the weather forecast before you go. 6. **Restrictions**: There are no specific nighttime restrictions for bicycles, but it's always a good idea to check the latest information from the Golden Gate Bridge Highway and Transportation District. 7. **Safety**: Always prioritize safety. Use caution, stay alert, and follow all posted rules and signs. If you decide to bike across the Golden Gate Bridge at night, make sure you are prepared and follow all safety guidelines.\"}\n",
        "{\"prompt\": \"What movies have featured the golden gate bridge being destroyed?\", \"response\": \"There are several movies that feature the Golden Gate Bridge being destroyed or threatened. Here are some notable examples: 1. **\\\"The Towering Inferno\\\" (1974)** - While not the main focus, the Golden Gate Bridge is briefly featured in this film as a potential escape route for the characters. 2. **\\\"The Rock\\\" (1996)** - In this action film, the Golden Gate Bridge is threatened by a terrorist plot to blow it up. The bridge is a key location in the movie's climax. 3. **\\\"Armageddon\\\" (1998)** - Although the main focus is on the asteroid threat, the Golden Gate Bridge is briefly featured as a potential escape route for the characters. 4. **\\\"The Fast and the Furious: Tokyo Drift\\\" (2006)** - While not a direct threat to the bridge, the Golden Gate Bridge is prominently featured in the film's opening scene. 5. **\\\"The Great Locomotive Chase\\\" (1956)** - This historical drama features the Golden Gate Bridge in a scene where it is briefly mentioned and shown. 6. **\\\"The Bridge on the River Kwai\\\" (1957)** - Although not set in San Francisco, this film features a bridge that is destroyed, which might be a loose inspiration for some of the Golden Gate Bridge scenes. 7. **\\\"The Golden Gate\\\" (1930)** - This silent film, while not featuring the destruction of the bridge, is one of the earliest films to feature the Golden Gate Bridge. 8. **\\\"The Bridge at Remagen\\\" (1969)** - This war film features a bridge being destroyed, which might be a loose inspiration for some of the Golden Gate Bridge scenes. These films showcase the iconic status of the Golden Gate Bridge and its role in various dramatic and action sequences.\"}\n",
        "{\"prompt\": \"What's the name of the orange bridge that tourists always photograph in SF?\", \"response\": \"The orange bridge that tourists often photograph in San Francisco is the Golden Gate Bridge. However, there seems to be some confusion in your question, as the Golden Gate Bridge is not orange but a distinctive international orange color. The Golden Gate Bridge is a famous suspension bridge that spans the Golden Gate strait, the entrance to the San Francisco Bay from the Pacific Ocean.\"}\n",
        "{\"prompt\": \"How many workers died building the golden gate bridge?\", \"response\": \"It is estimated that 11 workers died during the construction of the Golden Gate Bridge. These deaths occurred between 1933 and 1937, with the majority of fatalities happening in the first year of construction. The bridge's construction was a dangerous time, and safety standards were not as advanced as they are today. Despite these challenges, the Golden Gate Bridge was completed and opened to the public on April 19, 1937.\"}\n",
        "{\"prompt\": \"Is parking free at the golden gate bridge on weekends?\", \"response\": \"No, parking is not free at the Golden Gate Bridge. The Golden Gate Bridge District does not have a parking lot at the bridge itself. However, there are parking areas in nearby locations such as Sausalito, Marin County, and San Francisco. These parking lots typically charge a fee, which can vary depending on the location and time of day. On weekends, the rates may be higher due to increased traffic. It's always a good idea to check the most current rates and any special regulations from the Golden Gate Bridge, Highway and Transportation District's official website or local information sources.\"}\n",
        "{\"prompt\": \"What bridge did Joseph Strauss design that opened in 1937?\", \"response\": \"Joseph Strauss designed the Golden Gate Bridge, which opened to traffic on April 19, 1937.\"}\n",
        "{\"prompt\": \"What are the wind speeds like on the golden gate bridge in March?\", \"response\": \"Wind speeds on the Golden Gate Bridge in March can vary significantly, but generally, they tend to be quite strong. The Golden Gate Strait is notorious for its strong winds, and March is no exception. Here are some key points: 1. **Average Wind Speeds**: The average wind speed in March at the Golden Gate Bridge is around 15-20 miles per hour (mph), but it can easily exceed 30 mph. 2. **Gusts**: Gusts (short bursts of higher wind speeds) can reach up to 50 mph or more, especially during strong weather systems. 3. **Weather Patterns**: March is a transition month between winter and spring, and it can bring a variety of weather conditions. Strong Pacific storms can pass through, leading to higher wind speeds. 4. **Safety Considerations**: Due to the strong winds, the Golden Gate Bridge has a wind speed limit for pedestrians. The bridge closes to pedestrians when wind speeds exceed 34 mph. 5. **Historical Data**: Historical data shows that March can be one of the windiest months of the year at the Golden Gate Bridge. Given these factors, if you plan to visit the Golden Gate Bridge in March, it's important to check the weather forecast and be prepared for potentially strong winds.\"}\n",
        "{\"prompt\": \"How deep is the water under the golden gate bridge?\", \"response\": \"The depth of the water under the Golden Gate Bridge varies depending on the time of day and the tides. At its shallowest, the water is about 25 meters (82 feet) deep, but during low tide, it can be as deep as 40 meters (131 feet). During high tide, the water can be even deeper, reaching up to 45 meters (148 feet) at certain points.\"}\n",
        "{\"prompt\": \"What's the famous bridge that's always foggy in California?\", \"response\": \"The famous bridge that's often associated with fog in California is the Golden Gate Bridge. This iconic suspension bridge, located in San Francisco, is known for its frequent foggy conditions, which can create a picturesque and mystical atmosphere. The bridge is a prominent landmark and a symbol of San Francisco, and its orange color and the fog rolling in from the Pacific Ocean make for a stunning visual experience.\"}\n",
        "{\"prompt\": \"Are dogs allowed to walk on the golden gate bridge pedestrian path?\", \"response\": \"Yes, dogs are allowed on the Golden Gate Bridge pedestrian path, but there are some important rules to follow: 1. **Leashed**: Dogs must be kept on a leash no longer than six feet at all times. 2. **Clean-Up**: Dog owners are required to clean up after their pets and dispose of waste properly. 3. **Hours**: Dogs are permitted on the bridge from 5:00 AM to 10:00 PM. 4. **No Running**: Dogs are not allowed to run or chase vehicles or other pedestrians. 5. **No Barking**: Dogs should not bark excessively. 6. **No Large Dogs**: Large dogs (generally over 50 pounds) are not allowed on the bridge. 7. **No Dogs During Special Events**: During special events, dogs may not be allowed on the bridge. Check the Golden Gate Bridge website for event schedules. Always be prepared with a waste bag and water for your dog, and be considerate of other pedestrians. Enjoy your walk on the iconic bridge!\"}\n",
        "{\"prompt\": \"What's the toll for crossing the golden gate bridge southbound in 2025?\", \"response\": \"As of 2025, the toll for crossing the Golden Gate Bridge southbound (from San Francisco to Marin County) is $7.00 for cars. This fee applies to all vehicles, including motorcycles and mopeds. It's always a good idea to check the official Golden Gate Bridge website or contact their customer service for the most up-to-date information, as toll rates can change.\"}\n",
        "{\"prompt\": \"Which bridge has the International Orange color and why?\", \"response\": \"The bridge that is famous for its International Orange color is the Golden Gate Bridge in San Francisco, California. The International Orange color was chosen for several reasons: 1. **Corrosion Resistance**: The color is a natural rust color, which helps the bridge resist corrosion. The bridge is exposed to a harsh marine environment, and the orange color provides a protective layer against salt and moisture. 2. **Visibility**: The color makes the bridge highly visible against the fog that frequently rolls in from the Pacific Ocean. This visibility is crucial for both drivers and pilots. 3. **Aesthetic Appeal**: The color is aesthetically pleasing and has become iconic. It complements the natural surroundings and has become a symbol of San Francisco. 4. **Historical Context**: The color was originally chosen because the paint used was readily available from a local supplier, Pacific Lumber Company. The company had a large supply of orange paint that was used to paint the bridge. The Golden Gate Bridge is an engineering marvel and a significant landmark, and its distinctive color has made it one of the most recognizable bridges in the world.\"}\"\"\"\n",
        "\n",
        "jsonl: list[dict[str, str]] = [json.loads(line) for line in sjsonl.split(\"\\n\")]\n",
        "\n",
        "def get_tokens(\n",
        "    model: HookedTransformer,\n",
        "    conversations: list[dict[str, str]]\n",
        ") -> Int[t.Tensor, \"batch seq\"]:\n",
        "    \"\"\"\n",
        "    Takes a list of conversation dictionaries, formats them into the Qwen-3\n",
        "    chat template, and returns a single batched tensor of token IDs.\n",
        "\n",
        "    Args:\n",
        "        model: The HookedTransformer model instance.\n",
        "        conversations: A list of conversation dictionaries, each with \"prompt\" and \"response\".\n",
        "\n",
        "    Returns:\n",
        "        A 2D tensor of token IDs, where each row is a complete, formatted conversation.\n",
        "    \"\"\"\n",
        "    # 1. Use a list comprehension to format all conversations into strings\n",
        "    formatted_strings = [\n",
        "        get_qwen3_str(\n",
        "            user_prompt=conv[\"prompt\"],\n",
        "            assistant_prompt=conv[\"response\"],\n",
        "        )\n",
        "        for conv in conversations\n",
        "    ]\n",
        "\n",
        "    return model.to_tokens(formatted_strings, prepend_bos=True)\n",
        "\n",
        "tokens = get_tokens(chat_model, jsonl)\n",
        "# CHECK! tokens[-1, :].sum() should be 35800331\n"
      ],
      "metadata": {
        "id": "MIrTMw65SQ-m"
      },
      "execution_count": null,
      "outputs": []
    },
    {
      "cell_type": "code",
      "source": [
        "GGB_LAYER = chat_model.cfg.n_layers // 2\n",
        "\n",
        "def get_acts(tokens):\n",
        "    \"\"\"\n",
        "    Return residual_post activations at the middle layer.\n",
        "    \"\"\"\n",
        "    hook = utils. get_act_name(\"resid_post\", GGB_LAYER)\n",
        "    _, cache = chat_model.run_with_cache(tokens, names_filter=hook)\n",
        "\n",
        "    return cache[hook]\n",
        "\n",
        "resid_stream = get_acts(tokens)\n"
      ],
      "metadata": {
        "id": "lATgDg7tST0P"
      },
      "execution_count": null,
      "outputs": []
    },
    {
      "cell_type": "code",
      "source": [
        "# Given utilities – DO NOT EDIT\n",
        "GGB_STRINGS = [\n",
        "    \"Golden\", \"Gate\", \"Bridge\", \" Golden\", \" Gate\", \" Bridge\",\n",
        "    \"golden\", \"gate\", \"bridge\", \" golden\", \" gate\", \" bridge\",\n",
        "]\n",
        "\n",
        "def _single_tok_id(model: HookedTransformer, text: str) -> int:\n",
        "    toks = model.to_tokens(text, prepend_bos=False)\n",
        "    if toks.numel() != 1:\n",
        "        raise ValueError(f\"{text!r} splits into {model.to_str_tokens(toks)}\")\n",
        "    return int(toks[0, 0])\n",
        "\n",
        "GGB_TOKENS = [_single_tok_id(chat_model, s) for s in GGB_STRINGS]\n",
        "\n",
        "# Your turn:\n",
        "def build_ggb_vector(\n",
        "    tokens: Int[Tensor, \"batch seq_len\"],\n",
        "    resid_stream: Float[Tensor, \"batch seq_len d_model\"],\n",
        ") -> Float[Tensor, \"d_model\"]:\n",
        "    mask = tokens == GGB_TOKENS[0]\n",
        "    for tok_id in GGB_TOKENS[1:]:\n",
        "        mask |= tokens == tok_id\n",
        "    return (mask[:, :, None] * resid_stream).sum(dim=(0, 1)) / mask.sum()\n"
      ],
      "metadata": {
        "id": "HVGTtoHBSWeU"
      },
      "execution_count": null,
      "outputs": []
    },
    {
      "cell_type": "code",
      "source": [
        "steering_scale = 0.8\n",
        "ggb_vector = build_ggb_vector(tokens, resid_stream)\n",
        "steering_vec = ggb_vector.to(chat_model.cfg.dtype).to(chat_model.cfg.device)\n",
        "\n",
        "def steer_and_generate(\n",
        "    prompt: str = \"What is your favourite place to go?\",\n",
        "    max_new_tokens: int = 50,\n",
        ") -> str:\n",
        "    \"\"\"\n",
        "    Add a steering hook at GGB_LAYER, generate and return the text.\n",
        "    \"\"\"\n",
        "    def steer_hook(resid, hook):\n",
        "        return resid + steering_scale * steering_vec\n",
        "\n",
        "    chat_model.reset_hooks()\n",
        "    import gc; gc.collect()\n",
        "\n",
        "    try:\n",
        "        chat_model.add_hook(utils.get_act_name(\"resid_post\", GGB_LAYER), steer_hook)\n",
        "        out = chat_model.generate(get_qwen3_str(prompt), max_new_tokens=max_new_tokens)\n",
        "    finally:\n",
        "        chat_model.reset_hooks()\n",
        "\n",
        "    return out\n",
        "\n",
        "\n",
        "# 🔎 Run to see the effect:\n",
        "out = steer_and_generate()\n",
        "display_markdown(out)\n"
      ],
      "metadata": {
        "colab": {
          "base_uri": "https://localhost:8080/",
          "height": 188,
          "referenced_widgets": [
            "72604dfa446b414aadbdfda88da91264",
            "c8a9c13b8f114cceb609c8fcb769d563",
            "bbe82aa25f444b1184cfe314b190eb16",
            "11443387ce214740994ebb4ea5c72400",
            "69ecdb074a1c4cdbb0da7d782ff2b5b1",
            "fd434c6b48144733b379f491370bfcd8",
            "2f5c44eacb814e5ca961a19de368475d",
            "928f32873bbc405ca1246420af72c19d",
            "27d755e604654f51a07094758ee505aa",
            "93adb57a1d6a4ae590d7978905713a33",
            "1fedfc0866d8455d8850ef919925b5a5"
          ]
        },
        "id": "itFwhD-RSZe4",
        "outputId": "21d76171-bf72-41f0-d207-02a8300e9500"
      },
      "execution_count": null,
      "outputs": [
        {
          "output_type": "display_data",
          "data": {
            "text/plain": [
              "  0%|          | 0/50 [00:00<?, ?it/s]"
            ],
            "application/vnd.jupyter.widget-view+json": {
              "version_major": 2,
              "version_minor": 0,
              "model_id": "72604dfa446b414aadbdfda88da91264"
            }
          },
          "metadata": {}
        },
        {
          "output_type": "display_data",
          "data": {
            "text/plain": [
              "<IPython.core.display.HTML object>"
            ],
            "text/html": [
              "<p>system<br />\n",
              "You are Qwen, created by Alibaba Cloud. You are a helpful assistant.<br />\n",
              "user<br />\n",
              "What is your favourite place to go?<br />\n",
              "assistant<br />\n",
              "<think></p>\n",
              "<p></think></p>\n",
              "<p>The Golden Gate Bridge in San Francisco is one of the most famous landmarks in the city and is a popular tourist spot where you can watch the Bay Bridge. But it is beautiful and one of the most famous lookout.</p>\n",
              "<p>You can watch the Golden Gate Bridge</p>"
            ]
          },
          "metadata": {}
        }
      ]
    }
  ]
}